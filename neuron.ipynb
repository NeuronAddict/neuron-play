{
 "cells": [
  {
   "cell_type": "code",
   "id": "initial_id",
   "metadata": {
    "collapsed": true,
    "ExecuteTime": {
     "end_time": "2024-09-30T21:50:02.438166Z",
     "start_time": "2024-09-30T21:50:02.431773Z"
    }
   },
   "source": [
    "import torch\n",
    "\n",
    "\n",
    "x = torch.tensor([0, 1, 2, 3])\n",
    "x"
   ],
   "outputs": [
    {
     "data": {
      "text/plain": [
       "tensor([0, 1, 2, 3])"
      ]
     },
     "execution_count": 9,
     "metadata": {},
     "output_type": "execute_result"
    }
   ],
   "execution_count": 9
  },
  {
   "metadata": {
    "ExecuteTime": {
     "end_time": "2024-09-30T21:50:03.196704Z",
     "start_time": "2024-09-30T21:50:03.190930Z"
    }
   },
   "cell_type": "code",
   "source": [
    "def f(x):\n",
    "    return x**2\n",
    "\n",
    "def loss(pred, target):\n",
    "    return (pred - target).pow(2).sum()\n",
    "\n",
    "target = f(x)\n",
    "target"
   ],
   "id": "aabc9accda69767e",
   "outputs": [
    {
     "data": {
      "text/plain": [
       "tensor([0, 1, 4, 9])"
      ]
     },
     "execution_count": 10,
     "metadata": {},
     "output_type": "execute_result"
    }
   ],
   "execution_count": 10
  },
  {
   "metadata": {
    "ExecuteTime": {
     "end_time": "2024-09-30T21:50:03.820725Z",
     "start_time": "2024-09-30T21:50:03.814481Z"
    }
   },
   "cell_type": "code",
   "source": [
    "w = torch.randn(4, requires_grad=True)\n",
    "w"
   ],
   "id": "a622d6291c71e03",
   "outputs": [
    {
     "data": {
      "text/plain": [
       "tensor([ 0.4129, -0.6857, -0.1868,  1.0024], requires_grad=True)"
      ]
     },
     "execution_count": 11,
     "metadata": {},
     "output_type": "execute_result"
    }
   ],
   "execution_count": 11
  },
  {
   "metadata": {
    "ExecuteTime": {
     "end_time": "2024-09-30T21:52:29.541157Z",
     "start_time": "2024-09-30T21:52:29.524708Z"
    }
   },
   "cell_type": "code",
   "source": [
    "learningRate = 0.1\n",
    "for i in range(0, 10):\n",
    "    pred = x * w\n",
    "    print('***********************\\n')\n",
    "    print(f'Pred : {pred}')\n",
    "    l = loss(pred, target)\n",
    "    print(f'Loss : {l}')\n",
    "    l.backward()\n",
    "    with torch.no_grad():\n",
    "        w -= learningRate * w.grad\n",
    "        print(f'New weights : {w}')\n",
    "        w.grad.zero_()\n",
    "pred"
   ],
   "id": "82d156ceb04ab06",
   "outputs": [
    {
     "name": "stdout",
     "output_type": "stream",
     "text": [
      "***********************\n",
      "\n",
      "Pred : tensor([0.0000, 0.8781, 3.9999, 9.0000], grad_fn=<MulBackward0>)\n",
      "Loss : 0.014871264807879925\n",
      "New weights : tensor([0.4129, 0.9024, 2.0000, 3.0000], requires_grad=True)\n",
      "***********************\n",
      "\n",
      "Pred : tensor([0.0000, 0.9024, 4.0000, 9.0000], grad_fn=<MulBackward0>)\n",
      "Loss : 0.009517602622509003\n",
      "New weights : tensor([0.4129, 0.9220, 2.0000, 3.0000], requires_grad=True)\n",
      "***********************\n",
      "\n",
      "Pred : tensor([0.0000, 0.9220, 4.0000, 9.0000], grad_fn=<MulBackward0>)\n",
      "Loss : 0.006091265473514795\n",
      "New weights : tensor([0.4129, 0.9376, 2.0000, 3.0000], requires_grad=True)\n",
      "***********************\n",
      "\n",
      "Pred : tensor([0.0000, 0.9376, 4.0000, 9.0000], grad_fn=<MulBackward0>)\n",
      "Loss : 0.0038984084967523813\n",
      "New weights : tensor([0.4129, 0.9501, 2.0000, 3.0000], requires_grad=True)\n",
      "***********************\n",
      "\n",
      "Pred : tensor([0.0000, 0.9501, 4.0000, 9.0000], grad_fn=<MulBackward0>)\n",
      "Loss : 0.00249497895129025\n",
      "New weights : tensor([0.4129, 0.9600, 2.0000, 3.0000], requires_grad=True)\n",
      "***********************\n",
      "\n",
      "Pred : tensor([0.0000, 0.9600, 4.0000, 9.0000], grad_fn=<MulBackward0>)\n",
      "Loss : 0.0015967846848070621\n",
      "New weights : tensor([0.4129, 0.9680, 2.0000, 3.0000], requires_grad=True)\n",
      "***********************\n",
      "\n",
      "Pred : tensor([0.0000, 0.9680, 4.0000, 9.0000], grad_fn=<MulBackward0>)\n",
      "Loss : 0.0010219414252787828\n",
      "New weights : tensor([0.4129, 0.9744, 2.0000, 3.0000], requires_grad=True)\n",
      "***********************\n",
      "\n",
      "Pred : tensor([0.0000, 0.9744, 4.0000, 9.0000], grad_fn=<MulBackward0>)\n",
      "Loss : 0.0006540431058965623\n",
      "New weights : tensor([0.4129, 0.9795, 2.0000, 3.0000], requires_grad=True)\n",
      "***********************\n",
      "\n",
      "Pred : tensor([0.0000, 0.9795, 4.0000, 9.0000], grad_fn=<MulBackward0>)\n",
      "Loss : 0.0004185875877737999\n",
      "New weights : tensor([0.4129, 0.9836, 2.0000, 3.0000], requires_grad=True)\n",
      "***********************\n",
      "\n",
      "Pred : tensor([0.0000, 0.9836, 4.0000, 9.0000], grad_fn=<MulBackward0>)\n",
      "Loss : 0.00026789685944095254\n",
      "New weights : tensor([0.4129, 0.9869, 2.0000, 3.0000], requires_grad=True)\n"
     ]
    },
    {
     "data": {
      "text/plain": [
       "tensor([0.0000, 0.9836, 4.0000, 9.0000], grad_fn=<MulBackward0>)"
      ]
     },
     "execution_count": 16,
     "metadata": {},
     "output_type": "execute_result"
    }
   ],
   "execution_count": 16
  },
  {
   "metadata": {
    "ExecuteTime": {
     "end_time": "2024-09-30T21:53:28.826262Z",
     "start_time": "2024-09-30T21:53:28.821226Z"
    }
   },
   "cell_type": "code",
   "source": [
    "xv = torch.tensor([5])\n",
    "\n",
    "xv * w"
   ],
   "id": "c8756a5ef7e90cda",
   "outputs": [
    {
     "data": {
      "text/plain": [
       "tensor([ 2.0643,  4.9345, 10.0000, 15.0000], grad_fn=<MulBackward0>)"
      ]
     },
     "execution_count": 17,
     "metadata": {},
     "output_type": "execute_result"
    }
   ],
   "execution_count": 17
  },
  {
   "metadata": {},
   "cell_type": "code",
   "outputs": [],
   "execution_count": null,
   "source": "",
   "id": "6c99dcfd7788bba4"
  }
 ],
 "metadata": {
  "kernelspec": {
   "display_name": "Python 3",
   "language": "python",
   "name": "python3"
  },
  "language_info": {
   "codemirror_mode": {
    "name": "ipython",
    "version": 2
   },
   "file_extension": ".py",
   "mimetype": "text/x-python",
   "name": "python",
   "nbconvert_exporter": "python",
   "pygments_lexer": "ipython2",
   "version": "2.7.6"
  }
 },
 "nbformat": 4,
 "nbformat_minor": 5
}
